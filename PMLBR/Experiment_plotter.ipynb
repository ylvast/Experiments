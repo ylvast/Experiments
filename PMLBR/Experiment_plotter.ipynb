{
 "cells": [
  {
   "cell_type": "code",
   "execution_count": 16,
   "metadata": {},
   "outputs": [],
   "source": [
    "import seaborn as sns \n",
    "import numpy as np\n",
    "import matplotlib.pyplot as plt\n",
    "import sklearn\n",
    "import pandas as pd"
   ]
  },
  {
   "cell_type": "code",
   "execution_count": 6,
   "metadata": {},
   "outputs": [],
   "source": [
    "first_df = pd.read_csv(\"../Final_Results/PMLBR/2025-03-28_19_57_FIRST_FINAL/FIRST_result.csv\")\n",
    "second_df = pd.read_csv(\"FINAL_RUNS/2025-03-20_21_24_SECOND/SECOND_result.csv\")\n",
    "third_df = pd.read_csv(\"FINAL_RUNS/2025-03-17_19_43_THIRD/THIRD_result.csv\")\n",
    "fourth_df = pd.read_csv(\"FINAL_RUNS/2025-03-24_10_54_FOURTH/FOURTH_result.csv\")"
   ]
  },
  {
   "cell_type": "code",
   "execution_count": 7,
   "metadata": {},
   "outputs": [
    {
     "name": "stdout",
     "output_type": "stream",
     "text": [
      "Index(['Data', 'n', 'p', 'Experiment', 'Run', 'Correlation', 'MAE', 'RMSE',\n",
      "       'LMP', 'R2', 'Count_P', 'Time', 'First', 'Second', 'Third', 'FirstM',\n",
      "       'SecondM', 'ThirdM'],\n",
      "      dtype='object')\n"
     ]
    }
   ],
   "source": [
    "print(first_df.columns)"
   ]
  },
  {
   "cell_type": "code",
   "execution_count": 30,
   "metadata": {},
   "outputs": [
    {
     "name": "stdout",
     "output_type": "stream",
     "text": [
      "0.07183095426063829\n",
      "0.0713628917861798\n",
      "0.0719041888787679\n",
      "0.0716627552787431\n"
     ]
    }
   ],
   "source": [
    "print(first_df[\"MAE\"].median())\n",
    "print(second_df[\"MAE\"].median())\n",
    "print(third_df[\"MAE\"].median())\n",
    "print(fourth_df[\"MAE\"].median())"
   ]
  },
  {
   "cell_type": "code",
   "execution_count": 45,
   "metadata": {},
   "outputs": [
    {
     "name": "stdout",
     "output_type": "stream",
     "text": [
      "First Dataset:\n",
      "['auto_insurance_losses' '607_fri_c4_1000_50' 'strogatz_bacres2'\n",
      " 'strogatz_bacres1' 'strogatz_barmag1' '560_bodyfat' 'strogatz_glider2'\n",
      " 'strogatz_shearflow2' '643_fri_c2_500_25']\n",
      "----------------------------------------\n",
      "Second Dataset:\n",
      "['560_bodyfat' '607_fri_c4_1000_50' '643_fri_c2_500_25'\n",
      " 'auto_insurance_losses' 'strogatz_bacres1' 'strogatz_bacres2'\n",
      " 'strogatz_barmag1' 'strogatz_glider2' 'strogatz_shearflow2']\n",
      "----------------------------------------\n",
      "Third Dataset:\n",
      "['197_cpu_act' '_deprecated_195_auto_price' 'strogatz_barmag1'\n",
      " 'strogatz_glider2' 'auto_insurance_losses' 'strogatz_shearflow2'\n",
      " 'auto_insurance_price' '584_fri_c4_500_25' '573_cpu_act' '505_tecator'\n",
      " '582_fri_c1_500_25' '581_fri_c3_500_25']\n",
      "----------------------------------------\n",
      "Fourth Dataset:\n",
      "['auto_insurance_losses' 'strogatz_glider2' 'strogatz_shearflow2'\n",
      " 'strogatz_barmag1' '197_cpu_act' '573_cpu_act' 'auto_insurance_price'\n",
      " '581_fri_c3_500_25' '505_tecator' '582_fri_c1_500_25'\n",
      " '_deprecated_195_auto_price' '584_fri_c4_500_25']\n",
      "----------------------------------------\n"
     ]
    }
   ],
   "source": [
    "dfs = [first_df, second_df, third_df, fourth_df]\n",
    "df_names = [\"First\", \"Second\", \"Third\", \"Fourth\"]\n",
    "\n",
    "# Loop through each DataFrame\n",
    "for name, df in zip(df_names, dfs):\n",
    "    extreme_values = df.loc[df[\"MAE\"] > 100, \"Data\"].unique()\n",
    "    print(f\"{name} Dataset:\")\n",
    "    print(extreme_values)\n",
    "    print(\"-\" * 40)  # Separator for readability"
   ]
  },
  {
   "cell_type": "code",
   "execution_count": 60,
   "metadata": {},
   "outputs": [
    {
     "name": "stdout",
     "output_type": "stream",
     "text": [
      "                            First  Second  Third  Fourth\n",
      "Data                                                    \n",
      "strogatz_barmag1             10.0    10.0   10.0    10.0\n",
      "197_cpu_act                   8.0    10.0   10.0    10.0\n",
      "573_cpu_act                   8.0     8.0   10.0    10.0\n",
      "505_tecator                   7.0     7.0    6.0     6.0\n",
      "auto_insurance_losses         5.0     5.0    6.0     6.0\n",
      "strogatz_bacres2              5.0     5.0    1.0     1.0\n",
      "auto_insurance_price          4.0     4.0    5.0     5.0\n",
      "strogatz_shearflow1           4.0     4.0    4.0     4.0\n",
      "560_bodyfat                   3.0     3.0    NaN     NaN\n",
      "strogatz_bacres1              3.0     3.0    1.0     1.0\n",
      "strogatz_glider2              3.0     3.0    5.0     5.0\n",
      "strogatz_barmag2              2.0     2.0    7.0     7.0\n",
      "strogatz_predprey2            2.0     2.0    NaN     NaN\n",
      "strogatz_vdp1                 2.0     2.0    NaN     NaN\n",
      "201_pol                       1.0     1.0    NaN     NaN\n",
      "607_fri_c4_1000_50            1.0     1.0    NaN     NaN\n",
      "643_fri_c2_500_25             1.0     1.0    NaN     NaN\n",
      "strogatz_shearflow2           1.0     1.0    2.0     2.0\n",
      "581_fri_c3_500_25             NaN     NaN    1.0     1.0\n",
      "582_fri_c1_500_25             NaN     NaN    1.0     1.0\n",
      "584_fri_c4_500_25             NaN     NaN    1.0     1.0\n",
      "_deprecated_195_auto_price    NaN     NaN    1.0     1.0\n",
      "strogatz_predprey1            NaN     NaN    1.0     1.0\n"
     ]
    }
   ],
   "source": [
    "# Assuming df1, df2, df3, df4 are your dataframes\n",
    "# Combine all four dataframes\n",
    "first_df['Dataset'] = 'First'\n",
    "second_df['Dataset'] = 'Second'\n",
    "third_df['Dataset'] = 'Third'\n",
    "fourth_df['Dataset'] = 'Fourth'\n",
    "combined_df = pd.concat([first_df, second_df, third_df, fourth_df], ignore_index=True)\n",
    "\n",
    "# Filter the rows where MAE > 1\n",
    "filtered_df = combined_df[combined_df['MAE'] > 1]\n",
    "\n",
    "# Count how many times each Data value appears in the filtered rows\n",
    "data_counts = filtered_df.groupby('Dataset')['Data'].value_counts()\n",
    "\n",
    "# Print the counts\n",
    "first_dataset_counts = data_counts['First']\n",
    "second_dataset_counts = data_counts['Second']\n",
    "third_dataset_counts = data_counts['Third']\n",
    "fourth_dataset_counts = data_counts['Fourth']\n",
    "\n",
    "# Combine them into a single DataFrame\n",
    "combined_counts = pd.concat([first_dataset_counts, second_dataset_counts, third_dataset_counts, fourth_dataset_counts], axis=1)\n",
    "\n",
    "# Rename the columns for clarity\n",
    "combined_counts.columns = ['First', 'Second', 'Third', 'Fourth']\n",
    "\n",
    "# Print the combined counts\n",
    "print(combined_counts)\n"
   ]
  },
  {
   "cell_type": "code",
   "execution_count": 73,
   "metadata": {},
   "outputs": [],
   "source": [
    "first_df = first_df[first_df[\"MAE\"]<0.5]\n",
    "second_df = second_df[second_df[\"MAE\"]<0.5]\n",
    "third_df = third_df[third_df[\"MAE\"]<0.5]\n",
    "fourth_df = fourth_df[fourth_df[\"MAE\"]<0.5]"
   ]
  },
  {
   "cell_type": "code",
   "execution_count": 102,
   "metadata": {},
   "outputs": [],
   "source": [
    "# Function to make splits for boxplots or other plots\n",
    "def split_df(df, name, column, value):\n",
    "    df_below = df[df[column] < value].copy()\n",
    "    df_above = df[df[column] >= value].copy()\n",
    "    df_below[\"Group\"] = \"Small\"\n",
    "    df_above[\"Group\"] = \"Large\"\n",
    "    df_below[\"Exp\"] = name\n",
    "    df_above[\"Exp\"] = name\n",
    "    return df_below, df_above"
   ]
  },
  {
   "cell_type": "code",
   "execution_count": 109,
   "metadata": {},
   "outputs": [
    {
     "data": {
      "text/plain": [
       "<Figure size 1000x500 with 0 Axes>"
      ]
     },
     "metadata": {},
     "output_type": "display_data"
    },
    {
     "data": {
      "image/png": "[encoded data removed]",
      "text/plain": [
       "<Figure size 800x500 with 1 Axes>"
      ]
     },
     "metadata": {},
     "output_type": "display_data"
    }
   ],
   "source": [
    "# Define split settings\n",
    "split_column = \"n\"\n",
    "split_value = 1000\n",
    "dfs = []\n",
    "names = [\"First\", \"Second\", \"Third\", \"Fourth\"]\n",
    "for i, df in enumerate([first_df, second_df, third_df, fourth_df]):\n",
    "    below, above = split_df(df, names[i], split_column, split_value)\n",
    "    dfs.extend([below, above])\n",
    "\n",
    "# Combine all\n",
    "df_all = pd.concat(dfs)\n",
    "\n",
    "# Create the boxplot\n",
    "plt.figure(figsize=(10, 5))\n",
    "# Define color mapping based on \"Group\" values\n",
    "\n",
    "\n",
    "# Create boxplot\n",
    "plt.figure(figsize=(8, 5))\n",
    "ax = sns.boxplot(data=df_all, x=\"Exp\", y=\"MAE\", hue = \"Group\")\n",
    "\n",
    "# Rotate x-axis labels for readability\n",
    "plt.title(\"MAE Distributions by Dataset and n-Threshold\")\n",
    "plt.show()"
   ]
  }
 ],
 "metadata": {
  "kernelspec": {
   "display_name": "DS_master",
   "language": "python",
   "name": "python3"
  },
  "language_info": {
   "codemirror_mode": {
    "name": "ipython",
    "version": 3
   },
   "file_extension": ".py",
   "mimetype": "text/x-python",
   "name": "python",
   "nbconvert_exporter": "python",
   "pygments_lexer": "ipython3",
   "version": "3.12.9"
  }
 },
 "nbformat": 4,
 "nbformat_minor": 2
}
